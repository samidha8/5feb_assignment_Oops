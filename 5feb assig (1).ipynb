{
 "cells": [
  {
   "cell_type": "code",
   "execution_count": 5,
   "id": "3bfc31bb-cad3-4040-8daa-7693d1689fd8",
   "metadata": {},
   "outputs": [
    {
     "data": {
      "text/plain": [
       "'Q1Explain Class and Object with respect to Object-Oriented Programming. Give a suitable example.'"
      ]
     },
     "execution_count": 5,
     "metadata": {},
     "output_type": "execute_result"
    }
   ],
   "source": [
    "\"\"\"Q1Explain Class and Object with respect to Object-Oriented Programming. Give a suitable example.\"\"\""
   ]
  },
  {
   "cell_type": "code",
   "execution_count": 4,
   "id": "37426edb-26b7-48ee-95e0-dcbc35a2dae6",
   "metadata": {},
   "outputs": [],
   "source": [
    "#class is a blueprint for declaring and creating objects\n",
    "# Memory is not allocated to classes. Classes have no physical existence.\n",
    "# You can declare a class only once.\n",
    "# Class is a logical entity.\n",
    "# We cannot manipulate class as it is not available in memory"
   ]
  },
  {
   "cell_type": "code",
   "execution_count": null,
   "id": "d96644d4-6b3c-4f67-8d4f-1581c0e4d086",
   "metadata": {},
   "outputs": [],
   "source": [
    "#An object is a class instance that allows programmers to use variables and methods from inside the class.\n",
    "# When objects are created, memory is allocated to them in the heap memory.\n",
    "# An object is a physical entity.\n",
    "# Objects can be manipulated."
   ]
  },
  {
   "cell_type": "code",
   "execution_count": 24,
   "id": "8dea57d0-4907-4f6a-9894-57b65dc368cc",
   "metadata": {},
   "outputs": [],
   "source": [
    "class employee:\n",
    "    def __init__(self, name,age,gender,salary):\n",
    "        self.name= name\n",
    "        self.age= age\n",
    "        self.gender= gender\n",
    "        self.salary= salary\n",
    "def show_employee_details(self):\n",
    "    print(\"name of employee is\", self.name)\n",
    "    print(\"age of employee is\", self.age)\n",
    "    print(\"gender of employee is\", self.gender)\n",
    "    print(\"salary of employee is\", self.salary)\n",
    "    "
   ]
  },
  {
   "cell_type": "code",
   "execution_count": 25,
   "id": "c54052a4-17b9-4719-aa35-2234d1f9038e",
   "metadata": {},
   "outputs": [],
   "source": [
    "e1= employee('ram',25,\"male\",500000)"
   ]
  },
  {
   "cell_type": "code",
   "execution_count": 26,
   "id": "37c6d083-d275-48ef-948f-9252f7f78f65",
   "metadata": {},
   "outputs": [
    {
     "name": "stdout",
     "output_type": "stream",
     "text": [
      "500000\n"
     ]
    }
   ],
   "source": [
    "print(e1.salary)"
   ]
  },
  {
   "cell_type": "code",
   "execution_count": 27,
   "id": "483740ed-54a9-4c3f-9d06-c670c94cadb6",
   "metadata": {},
   "outputs": [
    {
     "name": "stdout",
     "output_type": "stream",
     "text": [
      "ram\n"
     ]
    }
   ],
   "source": [
    "print(e1.name)"
   ]
  },
  {
   "cell_type": "code",
   "execution_count": 19,
   "id": "678af270-8a51-4b86-8c2b-efbee66b8575",
   "metadata": {},
   "outputs": [],
   "source": [
    "class employee:\n",
    "    def __init__(self, name,age,gender,salary):\n",
    "        self.name= name\n",
    "        self.age= age\n",
    "        self.gender= gender\n",
    "        self.salary= salary\n",
    "def return_employee_details(self):\n",
    "    return self.name,self.age,self.gender,self.salary"
   ]
  },
  {
   "cell_type": "code",
   "execution_count": 20,
   "id": "677e4986-65fd-4f6a-bf38-2db117a9288b",
   "metadata": {},
   "outputs": [],
   "source": [
    "e2=employee(\"shaam\",27,\"male\",25000)"
   ]
  },
  {
   "cell_type": "code",
   "execution_count": 23,
   "id": "5127fb42-b594-4e88-8435-83922acc0c31",
   "metadata": {},
   "outputs": [
    {
     "name": "stdout",
     "output_type": "stream",
     "text": [
      "shaam\n"
     ]
    }
   ],
   "source": [
    "print(e2.name)"
   ]
  },
  {
   "cell_type": "code",
   "execution_count": null,
   "id": "5a58be1c-88b9-4a1e-960b-7fa8002e4c66",
   "metadata": {},
   "outputs": [],
   "source": [
    "#Q2 Name the four pillars of OOPs."
   ]
  },
  {
   "cell_type": "code",
   "execution_count": null,
   "id": "3215e362-09e2-47ad-8c85-a618bce7189a",
   "metadata": {},
   "outputs": [],
   "source": [
    "# four pillars are Inheritance, Polymorphism, Encapsulation and Abstraction"
   ]
  },
  {
   "cell_type": "code",
   "execution_count": null,
   "id": "b0bb8dc0-2e20-41d3-816a-06741aa2af93",
   "metadata": {},
   "outputs": [],
   "source": [
    "#Q3. Explain why the __init__() function is used. Give a suitable example."
   ]
  },
  {
   "cell_type": "code",
   "execution_count": null,
   "id": "81aff639-6aeb-4cbc-8303-af7c6ee34704",
   "metadata": {},
   "outputs": [],
   "source": [
    "# __init__ is the default constructor\n",
    "# __init__ serves as a constrctor for class. usually does some initialization work\n",
    "# an __init__ method can take any number of arguments\n",
    "# however, the first arguments self in the defination of __init__ is special\n",
    "#The __init__ function is called every time an object is created from a class.\n",
    "# The __init__ method lets the class initialize the object's attributes and serves no other purpose.\n",
    "# It is only used within classes"
   ]
  },
  {
   "cell_type": "code",
   "execution_count": 3,
   "id": "5a03ae9d-6b60-46ce-b8be-477493e308f4",
   "metadata": {},
   "outputs": [],
   "source": [
    "class car:\n",
    "    def __init__(self, modelname, year):\n",
    "        self.modelname= modelname\n",
    "        self.year= year\n",
    "    def display(self):\n",
    "        print(self.modelname,self.year)"
   ]
  },
  {
   "cell_type": "code",
   "execution_count": 22,
   "id": "aca2f06a-6cf7-459b-bd9b-3d3d7a693f44",
   "metadata": {},
   "outputs": [],
   "source": [
    "car1=car(\"creta\", 2019)"
   ]
  },
  {
   "cell_type": "code",
   "execution_count": 16,
   "id": "e7766e96-0265-4bc8-9458-d62cab4a4036",
   "metadata": {},
   "outputs": [
    {
     "name": "stdout",
     "output_type": "stream",
     "text": [
      "creta\n"
     ]
    }
   ],
   "source": [
    "print(car1.modelname)"
   ]
  },
  {
   "cell_type": "code",
   "execution_count": 17,
   "id": "2800448b-8c9a-4ea0-a3e7-aac680deef29",
   "metadata": {},
   "outputs": [
    {
     "name": "stdout",
     "output_type": "stream",
     "text": [
      "2019\n"
     ]
    }
   ],
   "source": [
    "print(car1.year)"
   ]
  },
  {
   "cell_type": "code",
   "execution_count": 4,
   "id": "ad15292f-2217-46dd-8e86-549f8ab2a069",
   "metadata": {},
   "outputs": [
    {
     "ename": "NameError",
     "evalue": "name 'car1' is not defined",
     "output_type": "error",
     "traceback": [
      "\u001b[0;31m---------------------------------------------------------------------------\u001b[0m",
      "\u001b[0;31mNameError\u001b[0m                                 Traceback (most recent call last)",
      "Cell \u001b[0;32mIn[4], line 1\u001b[0m\n\u001b[0;32m----> 1\u001b[0m \u001b[43mcar1\u001b[49m\u001b[38;5;241m.\u001b[39mdisplay\n",
      "\u001b[0;31mNameError\u001b[0m: name 'car1' is not defined"
     ]
    }
   ],
   "source": [
    "car1.display"
   ]
  },
  {
   "cell_type": "code",
   "execution_count": null,
   "id": "c64ae8ee-a66c-40ad-99e6-f785217865f0",
   "metadata": {},
   "outputs": [],
   "source": [
    "#Q4. Why self is used in OOPs?"
   ]
  },
  {
   "cell_type": "code",
   "execution_count": 2,
   "id": "ff79fbad-880f-431c-8bd1-e30715063bd0",
   "metadata": {},
   "outputs": [
    {
     "data": {
      "text/plain": [
       "'self represents the instance of the class. By using the “self” we can access the attributes and methods of the class in python. It binds the attributes with the given arguments. The reason you need to use self. is because Python does not use the @ syntax to refer to instance attributes'"
      ]
     },
     "execution_count": 2,
     "metadata": {},
     "output_type": "execute_result"
    }
   ],
   "source": [
    "\"\"\"self represents the instance of the class. By using the “self” we can access the attributes and methods of the class in python. It binds the attributes with the given arguments. The reason you need to use self. is because Python does not use the @ syntax to refer to instance attributes\"\"\""
   ]
  },
  {
   "cell_type": "code",
   "execution_count": null,
   "id": "0986af8b-8837-41ab-8281-312a482d52c7",
   "metadata": {},
   "outputs": [],
   "source": [
    "#Q5. What is inheritance? Give an example for each type of inheritance?"
   ]
  },
  {
   "cell_type": "code",
   "execution_count": 5,
   "id": "3b510ca8-b9ea-4437-89d4-c680f667a741",
   "metadata": {},
   "outputs": [
    {
     "data": {
      "text/plain": [
       "'Inheritance allows us to define a class that inherits all the methods and properties from another class. Parent class is the class being inherited from, also called base class. Child class is the class that inherits from another class, also called derived class.'"
      ]
     },
     "execution_count": 5,
     "metadata": {},
     "output_type": "execute_result"
    }
   ],
   "source": [
    "\"\"\"Inheritance allows us to define a class that inherits all the methods and properties from another class. Parent class is the class being inherited from, also called base class. Child class is the class that inherits from another class, also called derived class.\"\"\""
   ]
  },
  {
   "cell_type": "code",
   "execution_count": 10,
   "id": "814ad5cf-03b9-4696-be1e-fe30e98e727e",
   "metadata": {},
   "outputs": [],
   "source": [
    "#multiple\n",
    "class class1:\n",
    "    def test1(self):\n",
    "        return \"multilevel inheritance one\"\n",
    "\n",
    "    "
   ]
  },
  {
   "cell_type": "code",
   "execution_count": 12,
   "id": "7afa9a11-8550-4824-a7db-01f14e2fad39",
   "metadata": {},
   "outputs": [],
   "source": [
    "\n",
    "class lab1(A):\n",
    "    def test2(self):\n",
    "        return \"multilevel inheritance of class b \"\n"
   ]
  },
  {
   "cell_type": "code",
   "execution_count": 14,
   "id": "bcc69ebe-9ca9-431d-8f34-ce595a485471",
   "metadata": {},
   "outputs": [],
   "source": [
    "class lab2(class1,lab1):\n",
    "    pass"
   ]
  },
  {
   "cell_type": "code",
   "execution_count": 15,
   "id": "c4b6ed15-c51e-4cba-a565-e38e1b77b092",
   "metadata": {},
   "outputs": [],
   "source": [
    "data_science =lab2()"
   ]
  },
  {
   "cell_type": "code",
   "execution_count": 16,
   "id": "4d03122e-7975-4215-9258-5021266dc3de",
   "metadata": {},
   "outputs": [
    {
     "data": {
      "text/plain": [
       "'multilevel inheritance one'"
      ]
     },
     "execution_count": 16,
     "metadata": {},
     "output_type": "execute_result"
    }
   ],
   "source": [
    "data_science.test1()"
   ]
  },
  {
   "cell_type": "code",
   "execution_count": 17,
   "id": "130ab491-6971-469e-8054-92e9863e4cb3",
   "metadata": {},
   "outputs": [
    {
     "data": {
      "text/plain": [
       "'multilevel inheritance of class b '"
      ]
     },
     "execution_count": 17,
     "metadata": {},
     "output_type": "execute_result"
    }
   ],
   "source": [
    "data_science.test2()"
   ]
  },
  {
   "cell_type": "code",
   "execution_count": 19,
   "id": "a6ff8ec5-2532-4dc8-9403-0c6753aa016d",
   "metadata": {},
   "outputs": [],
   "source": [
    "#multilevel\n",
    "class class1:\n",
    "    def book(self):\n",
    "        return\"this is maths book\"\n",
    "class class2(class1):\n",
    "    def notebook(self):\n",
    "        return \"this is science notebook\"\n",
    "class class3(class2):\n",
    "    pass\n",
    "    \n",
    "    "
   ]
  },
  {
   "cell_type": "code",
   "execution_count": 20,
   "id": "635ff961-be28-4573-8204-406ef1b57200",
   "metadata": {},
   "outputs": [],
   "source": [
    "teacher= class3()"
   ]
  },
  {
   "cell_type": "code",
   "execution_count": 21,
   "id": "b11f5c86-c5c4-4963-b62f-5ed99ba42226",
   "metadata": {},
   "outputs": [
    {
     "data": {
      "text/plain": [
       "'this is maths book'"
      ]
     },
     "execution_count": 21,
     "metadata": {},
     "output_type": "execute_result"
    }
   ],
   "source": [
    "teacher.book()"
   ]
  },
  {
   "cell_type": "code",
   "execution_count": 22,
   "id": "a97e1991-734e-48a1-8777-76a50de95176",
   "metadata": {},
   "outputs": [
    {
     "data": {
      "text/plain": [
       "'multilevel inheritance of class b '"
      ]
     },
     "execution_count": 22,
     "metadata": {},
     "output_type": "execute_result"
    }
   ],
   "source": [
    "data_science.test2()"
   ]
  },
  {
   "cell_type": "code",
   "execution_count": 23,
   "id": "b4bf5f6b-e9f0-494b-a4d7-4a18a137aacb",
   "metadata": {},
   "outputs": [],
   "source": [
    "#hierarchical inheritance\n",
    "class class1:\n",
    "    def book(self):\n",
    "        return\"this is maths book\"\n",
    "class class2(class1):\n",
    "    def notebook(self):\n",
    "        return \"this is science notebook\"\n",
    "class class3(class1):\n",
    "    pass\n"
   ]
  },
  {
   "cell_type": "code",
   "execution_count": 24,
   "id": "c6278d3e-c165-4cc2-9e65-16cca81b3ff5",
   "metadata": {},
   "outputs": [],
   "source": [
    "student = class3()"
   ]
  },
  {
   "cell_type": "code",
   "execution_count": 25,
   "id": "5e3eed62-a802-415a-ab45-a044bc2c0b47",
   "metadata": {},
   "outputs": [
    {
     "data": {
      "text/plain": [
       "'this is maths book'"
      ]
     },
     "execution_count": 25,
     "metadata": {},
     "output_type": "execute_result"
    }
   ],
   "source": [
    "student.book()"
   ]
  },
  {
   "cell_type": "code",
   "execution_count": 26,
   "id": "12247c16-1aaf-457d-aa4f-2128f8bddd95",
   "metadata": {},
   "outputs": [],
   "source": [
    "teacher= class2()"
   ]
  },
  {
   "cell_type": "code",
   "execution_count": 27,
   "id": "36a65371-0d82-47dc-a54e-51887aee3960",
   "metadata": {},
   "outputs": [
    {
     "data": {
      "text/plain": [
       "'this is maths book'"
      ]
     },
     "execution_count": 27,
     "metadata": {},
     "output_type": "execute_result"
    }
   ],
   "source": [
    "teacher.book()"
   ]
  },
  {
   "cell_type": "code",
   "execution_count": 28,
   "id": "75abb4b3-eb1a-4801-836d-264913e2080a",
   "metadata": {},
   "outputs": [
    {
     "data": {
      "text/plain": [
       "'this is science notebook'"
      ]
     },
     "execution_count": 28,
     "metadata": {},
     "output_type": "execute_result"
    }
   ],
   "source": [
    "teacher.notebook()"
   ]
  },
  {
   "cell_type": "code",
   "execution_count": 30,
   "id": "83196b7a-a26b-44b1-9f26-c1e728ce189a",
   "metadata": {},
   "outputs": [],
   "source": [
    "#HYBRIDE INHERITANCE\n",
    "class class1:\n",
    "    def book(self):\n",
    "        return\"this is maths book\"\n",
    "class class2(class1):\n",
    "    def notebook(self):\n",
    "        return \"this is science notebook\"\n",
    "class class3(class1):\n",
    "    def pen(self):\n",
    "        return \"this is history notebook\"\n",
    "class class4(class1):\n",
    "    def pencil(self):\n",
    "        return \"this is algebra notebook\"\n",
    "class class4(class2,class3,class4):\n",
    "    pass\n"
   ]
  },
  {
   "cell_type": "code",
   "execution_count": null,
   "id": "40ed1e72-bdfc-498e-8f40-52baf741ae33",
   "metadata": {},
   "outputs": [],
   "source": [
    "nehal= class"
   ]
  }
 ],
 "metadata": {
  "kernelspec": {
   "display_name": "Python 3 (ipykernel)",
   "language": "python",
   "name": "python3"
  },
  "language_info": {
   "codemirror_mode": {
    "name": "ipython",
    "version": 3
   },
   "file_extension": ".py",
   "mimetype": "text/x-python",
   "name": "python",
   "nbconvert_exporter": "python",
   "pygments_lexer": "ipython3",
   "version": "3.10.8"
  }
 },
 "nbformat": 4,
 "nbformat_minor": 5
}
